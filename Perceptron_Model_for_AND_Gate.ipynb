{
  "nbformat": 4,
  "nbformat_minor": 0,
  "metadata": {
    "colab": {
      "name": "Perceptron-Model-for-AND-Gate.ipynb",
      "provenance": [],
      "authorship_tag": "ABX9TyPvg1ULrtszWlicC/ty0EIM",
      "include_colab_link": true
    },
    "kernelspec": {
      "name": "python3",
      "display_name": "Python 3"
    }
  },
  "cells": [
    {
      "cell_type": "markdown",
      "metadata": {
        "id": "view-in-github",
        "colab_type": "text"
      },
      "source": [
        "<a href=\"https://colab.research.google.com/github/Mustafalw02/Machine-Learning-Lab-Work/blob/master/Perceptron_Model_for_AND_Gate.ipynb\" target=\"_parent\"><img src=\"https://colab.research.google.com/assets/colab-badge.svg\" alt=\"Open In Colab\"/></a>"
      ]
    },
    {
      "cell_type": "code",
      "metadata": {
        "id": "qlNqSs8-nfIm",
        "colab_type": "code",
        "colab": {}
      },
      "source": [
        "import numpy as np"
      ],
      "execution_count": 0,
      "outputs": []
    },
    {
      "cell_type": "code",
      "metadata": {
        "id": "KAdzXNupm32k",
        "colab_type": "code",
        "colab": {}
      },
      "source": [
        "class Perceptron:\n",
        "  def __init__(self, ip, lr, epochs):\n",
        "    self.w = np.zeros((ip+1,1))\n",
        "    self.lr = lr\n",
        "    self.epochs = epochs\n",
        "    self.loss_lst = []\n",
        "  \n",
        "  #It is a step activation function\n",
        "  def activation(self, z):\n",
        "    return 1 if z>=0 else 0\n",
        "  \n",
        "  def predict(self, x):\n",
        "    z = self.w.T.dot(x)\n",
        "    a = self.activation(z)\n",
        "    return a\n",
        "\n",
        "  def fit(self, X, Y):\n",
        "    for i in range(self.epochs):\n",
        "      L = 0\n",
        "      for j in range(Y.shape[0]):\n",
        "        x = np.insert(X[j], 0, 1)\n",
        "        x = x.reshape((3,1)) \n",
        "        y = self.predict(x)\n",
        "        loss = Y[j]-y\n",
        "        L += loss**2\n",
        "        self.w += self.lr * loss * x\n",
        "      L = L/4\n",
        "      self.loss_lst.append(L)"
      ],
      "execution_count": 0,
      "outputs": []
    },
    {
      "cell_type": "code",
      "metadata": {
        "id": "dGh6OQtpoddr",
        "colab_type": "code",
        "outputId": "6ff40d4d-d5ec-4c55-b49f-e919fe38f3f2",
        "colab": {
          "base_uri": "https://localhost:8080/",
          "height": 68
        }
      },
      "source": [
        "if __name__ == '__main__':\n",
        "  X = np.array([\n",
        "                [0,0],\n",
        "                [0,1],\n",
        "                [1,0],\n",
        "                [1,1]\n",
        "  ])\n",
        "  Y = np.array([0,0,0,1])\n",
        "\n",
        "  model = Perceptron(ip = 2, lr = 0.001, epochs = 100)\n",
        "  model.fit(X,Y)\n",
        "  print(model.w)"
      ],
      "execution_count": 3,
      "outputs": [
        {
          "output_type": "stream",
          "text": [
            "[[-0.003]\n",
            " [ 0.002]\n",
            " [ 0.001]]\n"
          ],
          "name": "stdout"
        }
      ]
    },
    {
      "cell_type": "code",
      "metadata": {
        "id": "eqslZ2-uqxag",
        "colab_type": "code",
        "outputId": "14170483-5fc0-4dcf-96ac-23cc957bbb37",
        "colab": {
          "base_uri": "https://localhost:8080/",
          "height": 279
        }
      },
      "source": [
        "import matplotlib.pyplot as plt\n",
        "x_axis = [int(x) for x in range(100)]\n",
        "y_axis = model.loss_lst\n",
        "plt.plot(x_axis, y_axis)\n",
        "plt.xlabel(\"iteration\")\n",
        "plt.ylabel(\"loss\")\n",
        "plt.show()"
      ],
      "execution_count": 4,
      "outputs": [
        {
          "output_type": "display_data",
          "data": {
            "image/png": "[encoded data removed]",
            "text/plain": [
              "<Figure size 432x288 with 1 Axes>"
            ]
          },
          "metadata": {
            "tags": []
          }
        }
      ]
    },
    {
      "cell_type": "code",
      "metadata": {
        "id": "1Jyadx37_X56",
        "colab_type": "code",
        "colab": {}
      },
      "source": [
        ""
      ],
      "execution_count": 0,
      "outputs": []
    }
  ]
}