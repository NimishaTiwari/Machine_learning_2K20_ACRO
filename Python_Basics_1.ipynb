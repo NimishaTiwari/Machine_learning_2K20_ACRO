{
 "cells": [
  {
   "cell_type": "markdown",
   "metadata": {
    "colab_type": "text",
    "id": "Rvbb-z4sG5sf"
   },
   "source": [
    "# Python fundamentals"
   ]
  },
  {
   "cell_type": "markdown",
   "metadata": {
    "colab_type": "text",
    "id": "ek4PGqxdG5sk"
   },
   "source": [
    "### print() function"
   ]
  },
  {
   "cell_type": "markdown",
   "metadata": {
    "colab_type": "text",
    "id": "PtDg6KhQG5sn"
   },
   "source": [
    "### Comments"
   ]
  },
  {
   "cell_type": "code",
   "execution_count": 1,
   "metadata": {
    "colab": {
     "base_uri": "https://localhost:8080/",
     "height": 34
    },
    "colab_type": "code",
    "id": "opEi0UOgG5sp",
    "outputId": "19605e4b-f757-46f2-ec7b-73a73c742d84"
   },
   "outputs": [
    {
     "name": "stdout",
     "output_type": "stream",
     "text": [
      "Acropolis\n"
     ]
    }
   ],
   "source": [
    "# First Program\n",
    "print(\"Acropolis\")"
   ]
  },
  {
   "cell_type": "markdown",
   "metadata": {
    "colab_type": "text",
    "id": "-PwiE7I2G5sv"
   },
   "source": [
    "### Variables"
   ]
  },
  {
   "cell_type": "code",
   "execution_count": 2,
   "metadata": {
    "colab": {
     "base_uri": "https://localhost:8080/",
     "height": 34
    },
    "colab_type": "code",
    "id": "4h_N96TEG5sx",
    "outputId": "593e19d8-3686-47a6-d014-aeeb7575cd95"
   },
   "outputs": [
    {
     "name": "stdout",
     "output_type": "stream",
     "text": [
      "20   4.123   India\n"
     ]
    }
   ],
   "source": [
    "# In Python there is no need to mention the data type\n",
    "\n",
    "var1 = 20      # An integer assignment\n",
    "var2 = 4.123   # A floating point\n",
    "var3 = \"India\" # A string\n",
    "\n",
    "print(var1,' ',var2,' ',var3)"
   ]
  },
  {
   "cell_type": "markdown",
   "metadata": {
    "colab_type": "text",
    "id": "OJjSBDPUG5s1"
   },
   "source": [
    "### Assignment"
   ]
  },
  {
   "cell_type": "code",
   "execution_count": 4,
   "metadata": {
    "colab": {
     "base_uri": "https://localhost:8080/",
     "height": 52
    },
    "colab_type": "code",
    "id": "D_J2d-iLG5s3",
    "outputId": "8a8eca96-8e31-4095-f505-014423f28ab4",
    "scrolled": true
   },
   "outputs": [
    {
     "name": "stdout",
     "output_type": "stream",
     "text": [
      "1   1   1\n",
      "6   6.0   Nimisha\n"
     ]
    }
   ],
   "source": [
    "# general syntax\n",
    "#variable-name=value\n",
    "\n",
    "# Assigning same value to multiple variables\n",
    "\n",
    "var1 = var2 = var3 = 1\n",
    "print(var1,' ',var2,' ',var3)\n",
    "\n",
    "# Assigning Different values to variable in a single expression\n",
    "\n",
    "var1, var2, var3 = 6, 6.0, \"Nimisha\"\n",
    "print(var1,' ',var2,' ',var3)\n",
    "\n",
    "# Note: commas can be used for multi-assignments"
   ]
  },
  {
   "cell_type": "markdown",
   "metadata": {
    "colab_type": "text",
    "id": "xDs1JHtIG5s8"
   },
   "source": [
    "### Taking input"
   ]
  },
  {
   "cell_type": "code",
   "execution_count": 5,
   "metadata": {
    "colab": {
     "base_uri": "https://localhost:8080/",
     "height": 70
    },
    "colab_type": "code",
    "id": "56pGA0vmG5s9",
    "outputId": "17973f27-7daf-448f-bcee-77980b7a0241",
    "scrolled": true
   },
   "outputs": [
    {
     "name": "stdout",
     "output_type": "stream",
     "text": [
      "Enter your first name: Nimisha\n",
      "Enter your second name: Tiwari\n",
      "Enter your semester: 6\n"
     ]
    }
   ],
   "source": [
    "firstname = input(\"Enter your first name: \")\n",
    "lastname = input(\"Enter your second name: \")\n",
    "semester = input(\"Enter your semester: \")"
   ]
  },
  {
   "cell_type": "code",
   "execution_count": 6,
   "metadata": {
    "colab": {
     "base_uri": "https://localhost:8080/",
     "height": 52
    },
    "colab_type": "code",
    "id": "U3RV2XeRG5tD",
    "outputId": "a0088014-f5fa-459f-df5d-bc309801123d"
   },
   "outputs": [
    {
     "name": "stdout",
     "output_type": "stream",
     "text": [
      "Enter your age: 20\n",
      "25\n"
     ]
    }
   ],
   "source": [
    "# run below code\n",
    "age = input(\"Enter your age: \")\n",
    "age = int(age)+5\n",
    "print(age)"
   ]
  },
  {
   "cell_type": "markdown",
   "metadata": {
    "colab_type": "text",
    "id": "MpWzqas4G5tH"
   },
   "source": [
    "### Write a program in Python for data type conversion from: \n",
    "- int to string\n",
    "- int to float\n",
    "- string to int\n",
    "- string to float\n",
    "- float to int\n",
    "- float to string"
   ]
  },
  {
   "cell_type": "code",
   "execution_count": 7,
   "metadata": {
    "colab": {
     "base_uri": "https://localhost:8080/",
     "height": 122
    },
    "colab_type": "code",
    "id": "EohYaD0jG5tJ",
    "outputId": "cacca205-4a56-4801-ecc3-07e3df491e83"
   },
   "outputs": [
    {
     "name": "stdout",
     "output_type": "stream",
     "text": [
      "10\n",
      "10.0\n",
      "20\n",
      "20.0\n",
      "23\n",
      "23.56\n"
     ]
    }
   ],
   "source": [
    "a=10\n",
    "print(str(a))\n",
    "print(float(a))\n",
    "\n",
    "b='20'\n",
    "print(int(b))\n",
    "print(float(b))\n",
    "\n",
    "c=23.56\n",
    "print(int(c))\n",
    "print(str(c))"
   ]
  },
  {
   "cell_type": "markdown",
   "metadata": {
    "colab_type": "text",
    "id": "3SQpXHpgG5tN"
   },
   "source": [
    "### Task1: \n",
    "#### WAP to display your infomation like (full name, branch, university name, age, 12th %, hobbies). Store each value into some meaningful variable.  the ouptput of the program should look like"
   ]
  },
  {
   "cell_type": "code",
   "execution_count": 8,
   "metadata": {
    "colab": {
     "base_uri": "https://localhost:8080/",
     "height": 228
    },
    "colab_type": "code",
    "id": "NcmrqUkXG5tQ",
    "outputId": "784823d4-6542-4224-9188-7a4651f5a825"
   },
   "outputs": [
    {
     "name": "stdout",
     "output_type": "stream",
     "text": [
      "Enter your full name: Nimisha Tiwari\n",
      "Enter your branch: CSE\n",
      "Enter your university: RGPV\n",
      "Enter your age: 20\n",
      "Enter your 12%: 86.6\n",
      "Enter your hobbies: Collecting coins and stamps\n",
      "Nimisha Tiwari\n",
      "CSE\n",
      "RGPV\n",
      "20\n",
      "86.6\n",
      "Collecting coins and stamps\n"
     ]
    }
   ],
   "source": [
    "\n",
    "fullname = input(\"Enter your full name: \")\n",
    "branch = input(\"Enter your branch: \")\n",
    "university = input(\"Enter your university: \")\n",
    "age = input(\"Enter your age: \")\n",
    "twelthper = input(\"Enter your 12%: \")\n",
    "hobbies = input(\"Enter your hobbies: \")\n",
    "print(fullname)\n",
    "print(branch)\n",
    "print(university)\n",
    "print(age)\n",
    "print(twelthper)\n",
    "print(hobbies)"
   ]
  },
  {
   "cell_type": "markdown",
   "metadata": {
    "colab_type": "text",
    "id": "aUn64sgNG5tU"
   },
   "source": [
    "### Commmonly used functions \n",
    "- round(n)\n",
    "- format(n, '0.2f')\n",
    "- format(n,',') # put a comma on thousand place\n",
    "- format(n,'b') # print binary of the number, 'o', 'x'\n",
    "\n",
    "- eval(expression)\n",
    "- chr(n)\n",
    "- ord(character)\n",
    "- bin(n), oct(n), hex(n)\n",
    "\n",
    "- #### function on string/character data\n",
    "- isdigit()\n",
    "- isalpha()\n",
    "- isspace()\n",
    "- numeric()\n",
    "- ljust(width)\n",
    "- rjust(width)\n",
    "- cjust(width)"
   ]
  },
  {
   "cell_type": "code",
   "execution_count": 9,
   "metadata": {
    "colab": {
     "base_uri": "https://localhost:8080/",
     "height": 70
    },
    "colab_type": "code",
    "id": "nkRXM4BJG5tV",
    "outputId": "5da3fb13-3147-4fc7-bb20-75b73ac0293f",
    "scrolled": true
   },
   "outputs": [
    {
     "name": "stdout",
     "output_type": "stream",
     "text": [
      "acropolis, A computer science portal for acropolis.\n",
      "This article is written in Python\n",
      "Hello, I am 20 years old !\n"
     ]
    }
   ],
   "source": [
    "# Python3 program to demonstarte \n",
    "# the str.format() method \n",
    "  \n",
    "# using format option in a simple string \n",
    "print (\"{}, A computer science portal for acropolis.\"\n",
    "                        .format(\"acropolis\")) \n",
    "  \n",
    "# using format option for a \n",
    "# value stored in a variable \n",
    "str = \"This article is written in {}\"\n",
    "print (str.format(\"Python\")) \n",
    "  \n",
    "# formatting a string using a numeric constant \n",
    "print (\"Hello, I am {} years old !\".format(20))  "
   ]
  },
  {
   "cell_type": "code",
   "execution_count": 10,
   "metadata": {
    "colab": {
     "base_uri": "https://localhost:8080/",
     "height": 52
    },
    "colab_type": "code",
    "id": "m50gn_tsG5tb",
    "outputId": "381c1d63-74d3-4451-f82c-d7bae8174133"
   },
   "outputs": [
    {
     "name": "stdout",
     "output_type": "stream",
     "text": [
      "D\n",
      "68\n"
     ]
    }
   ],
   "source": [
    "# Characters and their ASCII value\n",
    "\n",
    "x=68\n",
    "# print character corresponding to x \n",
    "print(chr(x))\n",
    "char='D'\n",
    "# print number corresponding to char\n",
    "print(ord(char))"
   ]
  },
  {
   "cell_type": "code",
   "execution_count": 11,
   "metadata": {
    "colab": {
     "base_uri": "https://localhost:8080/",
     "height": 34
    },
    "colab_type": "code",
    "id": "b0mbEsRfG5tg",
    "outputId": "f6054d41-1628-4a6f-ff32-3250c4758df3"
   },
   "outputs": [
    {
     "name": "stdout",
     "output_type": "stream",
     "text": [
      "ACROPOLISACROPOLISACROPOLISACROPOLISACROPOLISACROPOLISACROPOLISACROPOLISACROPOLISACROPOLIS\n"
     ]
    }
   ],
   "source": [
    "# write code to print your name 10 times\n",
    "print('ACROPOLIS'*10)"
   ]
  },
  {
   "cell_type": "code",
   "execution_count": 12,
   "metadata": {
    "colab": {
     "base_uri": "https://localhost:8080/",
     "height": 210
    },
    "colab_type": "code",
    "id": "HQhqPPfaG5tl",
    "outputId": "3aace845-eef6-4a39-8e55-63f932d9018e"
   },
   "outputs": [
    {
     "name": "stdout",
     "output_type": "stream",
     "text": [
      "\n",
      "*\n",
      "**\n",
      "***\n",
      "****\n",
      "\n",
      "\n",
      "****\n",
      "***\n",
      "**\n",
      "*\n"
     ]
    }
   ],
   "source": [
    "for i in range(5):\n",
    "    print(\"*\"*i)\n",
    "\n",
    "# new pattern program\n",
    "print(\"\\n\")\n",
    "for i in range(4,0,-1):\n",
    "  print(\"*\"*i)    "
   ]
  },
  {
   "cell_type": "code",
   "execution_count": 13,
   "metadata": {
    "colab": {
     "base_uri": "https://localhost:8080/",
     "height": 105
    },
    "colab_type": "code",
    "id": "3-9RKU1psovu",
    "outputId": "8fe9ea80-2d6b-46e9-ef2f-231030f11522"
   },
   "outputs": [
    {
     "name": "stdout",
     "output_type": "stream",
     "text": [
      "      *\n",
      "     **\n",
      "    ***\n",
      "   ****\n",
      "  *****\n"
     ]
    }
   ],
   "source": [
    "for i in range(1,6):\n",
    "  print(\" \"*(6-i),\"*\"*i) "
   ]
  },
  {
   "cell_type": "code",
   "execution_count": 14,
   "metadata": {
    "colab": {
     "base_uri": "https://localhost:8080/",
     "height": 34
    },
    "colab_type": "code",
    "id": "v5QAgvn8G5tp",
    "outputId": "6c1274fe-0356-46c5-9218-476eaf14409e"
   },
   "outputs": [
    {
     "name": "stdout",
     "output_type": "stream",
     "text": [
      "10:20:30,"
     ]
    }
   ],
   "source": [
    "# use seperator and end with specific symbol\n",
    "a, b, c = 10, 20, 30\n",
    "print(a,b,c,sep=':',end=',')"
   ]
  },
  {
   "cell_type": "code",
   "execution_count": 15,
   "metadata": {
    "colab": {
     "base_uri": "https://localhost:8080/",
     "height": 87
    },
    "colab_type": "code",
    "id": "IxLqu9XZG5tt",
    "outputId": "e3a8267b-391c-4224-8733-09d2e82fd8be"
   },
   "outputs": [
    {
     "name": "stdout",
     "output_type": "stream",
     "text": [
      "     *\n",
      "    **\n",
      "   ***\n",
      "  ****\n"
     ]
    }
   ],
   "source": [
    "for i in range(1,5):\n",
    "    print(\" \"*(5-i),\"*\"*i)"
   ]
  },
  {
   "cell_type": "code",
   "execution_count": 16,
   "metadata": {
    "colab": {
     "base_uri": "https://localhost:8080/",
     "height": 34
    },
    "colab_type": "code",
    "id": "GFIBWQUtG5tx",
    "outputId": "51d6b775-969d-4a9b-b034-adaf7c14e3a5"
   },
   "outputs": [
    {
     "name": "stdout",
     "output_type": "stream",
     "text": [
      "P Y T H O N\n"
     ]
    }
   ],
   "source": [
    "# unpack characters\n",
    "word = 'PYTHON'\n",
    "a,b,c,d,e,f = word\n",
    "print(a,b,c,d,e,f)"
   ]
  },
  {
   "cell_type": "markdown",
   "metadata": {
    "colab_type": "text",
    "id": "XOxjxinfG5t1"
   },
   "source": [
    "### Format output"
   ]
  },
  {
   "cell_type": "code",
   "execution_count": 17,
   "metadata": {
    "colab": {
     "base_uri": "https://localhost:8080/",
     "height": 34
    },
    "colab_type": "code",
    "id": "EJWEn5P4cfOd",
    "outputId": "683a814b-0aa7-472b-e7d5-20b072bac8c0"
   },
   "outputs": [
    {
     "name": "stdout",
     "output_type": "stream",
     "text": [
      "The value of x is 5 and y is 10\n"
     ]
    }
   ],
   "source": [
    "x = 5 \n",
    "y = 10\n",
    "print('The value of x is {} and y is {}'.format(x,y))"
   ]
  },
  {
   "cell_type": "code",
   "execution_count": 18,
   "metadata": {
    "colab": {
     "base_uri": "https://localhost:8080/",
     "height": 34
    },
    "colab_type": "code",
    "id": "rohJ0RmQG5t6",
    "outputId": "bde32cc3-f2fb-405d-97ba-de11f3e48e2b",
    "scrolled": true
   },
   "outputs": [
    {
     "name": "stdout",
     "output_type": "stream",
     "text": [
      "I like ice cream and chocolate\n"
     ]
    }
   ],
   "source": [
    "print('I like {0} and {1}'.format('ice cream','chocolate'))"
   ]
  },
  {
   "cell_type": "code",
   "execution_count": 19,
   "metadata": {
    "colab": {
     "base_uri": "https://localhost:8080/",
     "height": 34
    },
    "colab_type": "code",
    "id": "ePTsWKD2G5t-",
    "outputId": "2db1ae32-fe91-4627-a365-0a75c7deb139",
    "scrolled": true
   },
   "outputs": [
    {
     "name": "stdout",
     "output_type": "stream",
     "text": [
      "I like chocolate and ice cream\n"
     ]
    }
   ],
   "source": [
    "print('I like {1} and {0}'.format('ice cream','chocolate'))"
   ]
  },
  {
   "cell_type": "code",
   "execution_count": 20,
   "metadata": {
    "colab": {
     "base_uri": "https://localhost:8080/",
     "height": 34
    },
    "colab_type": "code",
    "id": "MHagJ4n_G5uE",
    "outputId": "6f08fc85-4898-480c-fa53-6411e572e21c",
    "scrolled": true
   },
   "outputs": [
    {
     "name": "stdout",
     "output_type": "stream",
     "text": [
      "Hello Sachin !, Good morning\n"
     ]
    }
   ],
   "source": [
    "print('Hello {name}, {greeting}'.format(greeting = 'Good morning', name = 'Sachin !'))"
   ]
  },
  {
   "cell_type": "markdown",
   "metadata": {
    "colab_type": "text",
    "id": "liwzGLgJG5uJ"
   },
   "source": [
    "### Task2\n",
    "#### Raman likes tea but he has coffee. Riya likes coffee but has tea. Write a program in python so that both can enjoy what they like."
   ]
  },
  {
   "cell_type": "code",
   "execution_count": 21,
   "metadata": {
    "colab": {
     "base_uri": "https://localhost:8080/",
     "height": 52
    },
    "colab_type": "code",
    "id": "KLT5upfKG5uK",
    "outputId": "ec31d9cb-8a35-4895-f993-575d91a5bb9a"
   },
   "outputs": [
    {
     "name": "stdout",
     "output_type": "stream",
     "text": [
      "raman :tea\n",
      "riya :coffee\n"
     ]
    }
   ],
   "source": [
    "# write your code after this line\n",
    "raman='coffee'\n",
    "riya='tea'\n",
    "raman, riya = riya, raman\n",
    "print(\"raman :{}\".format(raman))\n",
    "print(\"riya :{}\".format(riya))"
   ]
  },
  {
   "cell_type": "markdown",
   "metadata": {
    "colab_type": "text",
    "heading_collapsed": true,
    "id": "S2j-VmN9G5uN"
   },
   "source": [
    "### Task3\n",
    "Write a program for following\n",
    "- Input: 'Python'\n",
    "- Output: 642"
   ]
  },
  {
   "cell_type": "code",
   "execution_count": 22,
   "metadata": {
    "colab": {
     "base_uri": "https://localhost:8080/",
     "height": 34
    },
    "colab_type": "code",
    "hidden": true,
    "id": "VEgfNycFG5uO",
    "outputId": "ee9316d5-653a-4d1e-a9b4-d2de1199052b"
   },
   "outputs": [
    {
     "name": "stdout",
     "output_type": "stream",
     "text": [
      "642\n"
     ]
    }
   ],
   "source": [
    "e,f,g,h,i,j='Python'\n",
    "s=ord(e)+ord(f)+ord(g)+ord(h)+ord(i)+ord(j)\n",
    "print(s)"
   ]
  },
  {
   "cell_type": "markdown",
   "metadata": {
    "colab_type": "text",
    "id": "DjUR0ktSG5uR"
   },
   "source": [
    "# Working with math, calendar, random, datetime"
   ]
  },
  {
   "cell_type": "code",
   "execution_count": 23,
   "metadata": {
    "colab": {
     "base_uri": "https://localhost:8080/",
     "height": 87
    },
    "colab_type": "code",
    "id": "y8UbqGZ1G5uS",
    "outputId": "887455a5-ddfe-4c74-c6a4-a93488ff7a6c"
   },
   "outputs": [
    {
     "name": "stdout",
     "output_type": "stream",
     "text": [
      "3.0\n",
      "10\n",
      "11\n"
     ]
    },
    {
     "data": {
      "text/plain": [
       "3.141592653589793"
      ]
     },
     "execution_count": 23,
     "metadata": {},
     "output_type": "execute_result"
    }
   ],
   "source": [
    "import math\n",
    "print(math.sqrt(9))\n",
    "print(math.floor(10.8))\n",
    "print (math.ceil(10.5))\n",
    "math.pi\n"
   ]
  },
  {
   "cell_type": "code",
   "execution_count": 24,
   "metadata": {
    "colab": {
     "base_uri": "https://localhost:8080/",
     "height": 52
    },
    "colab_type": "code",
    "id": "9Sofw03xG5uW",
    "outputId": "5c6eb46d-5deb-438c-c76b-86eccff54bcc"
   },
   "outputs": [
    {
     "name": "stdout",
     "output_type": "stream",
     "text": [
      "x =  0.08143603679834788\n",
      "y =  20\n"
     ]
    }
   ],
   "source": [
    "import random\n",
    "x = random.random() # generate any random number between 0 and 1\n",
    "print(\"x = \", x)\n",
    "\n",
    "y = random.randint(5,20)# generate any random number between 5 and 20\n",
    "print(\"y = \", y)"
   ]
  },
  {
   "cell_type": "code",
   "execution_count": 25,
   "metadata": {
    "colab": {
     "base_uri": "https://localhost:8080/",
     "height": 87
    },
    "colab_type": "code",
    "id": "zJhrO4MyG5uZ",
    "outputId": "d76ed394-124e-4a5f-c044-b44e5d492011"
   },
   "outputs": [
    {
     "name": "stdout",
     "output_type": "stream",
     "text": [
      "2020-01-28\n",
      "2020\n",
      "1\n",
      "28\n"
     ]
    }
   ],
   "source": [
    "import datetime\n",
    "\n",
    "date = datetime.datetime.now().date() # YYYY-MM-DD format\n",
    "year = datetime.datetime.now().year\n",
    "month = datetime.datetime.now().month\n",
    "day = datetime.datetime.now().day\n",
    "\n",
    "print(date)\n",
    "print(year)\n",
    "print(month)\n",
    "print(day)"
   ]
  },
  {
   "cell_type": "code",
   "execution_count": 26,
   "metadata": {
    "colab": {
     "base_uri": "https://localhost:8080/",
     "height": 210
    },
    "colab_type": "code",
    "id": "cq9pMSf4G5uc",
    "outputId": "258853b5-40ff-4796-dd30-0a52151f06fb",
    "scrolled": false
   },
   "outputs": [
    {
     "name": "stdout",
     "output_type": "stream",
     "text": [
      "Enter Year : 1999\n",
      "Enter the Month : 12\n",
      "   December 1999\n",
      "Mo Tu We Th Fr Sa Su\n",
      "       1  2  3  4  5\n",
      " 6  7  8  9 10 11 12\n",
      "13 14 15 16 17 18 19\n",
      "20 21 22 23 24 25 26\n",
      "27 28 29 30 31\n",
      "\n"
     ]
    }
   ],
   "source": [
    "import calendar\n",
    "\n",
    "year = int(input(\"Enter Year : \"))\n",
    "month = int(input(\"Enter the Month : \"))\n",
    "\n",
    "print(calendar.month(year, month))"
   ]
  },
  {
   "cell_type": "markdown",
   "metadata": {
    "colab_type": "text",
    "heading_collapsed": true,
    "id": "LF2GsLtJG5uf"
   },
   "source": [
    "### Task 4\n",
    "#### WAP to justify the value of a number (right, left, center) in 20 chars with one digit accuracy. Use format() to print value of variable z (float) right justify in 30 chars with 3 digit accuracy."
   ]
  },
  {
   "cell_type": "code",
   "execution_count": 27,
   "metadata": {
    "colab": {
     "base_uri": "https://localhost:8080/",
     "height": 246
    },
    "colab_type": "code",
    "hidden": true,
    "id": "11p2UvGWG5uj",
    "outputId": "00948eb8-f53e-4159-d7e6-04f97202c437"
   },
   "outputs": [
    {
     "name": "stdout",
     "output_type": "stream",
     "text": [
      "             15246.6\n",
      "                14.2\n",
      "\n",
      "\n",
      "15246.6             \n",
      "14.2                \n",
      "\n",
      "\n",
      "      15246.6       \n",
      "        14.2        \n",
      "\n",
      "\n",
      "                        20.745\n"
     ]
    }
   ],
   "source": [
    "x=15246.59\n",
    "y=14.156\n",
    "print(format(x,'>20.1f'))\n",
    "print(format(y,'>20.1f'))\n",
    "print(\"\\n\")\n",
    "\n",
    "print(format(x,'<20.1f'))\n",
    "print(format(y,'<20.1f'))\n",
    "print(\"\\n\")\n",
    "\n",
    "print(format(x,'^20.1f'))\n",
    "print(format(y,'^20.1f'))\n",
    "print(\"\\n\")\n",
    "\n",
    "z=20.745124\n",
    "print(format(z, '>30.3f'))"
   ]
  },
  {
   "cell_type": "code",
   "execution_count": 0,
   "metadata": {
    "colab": {},
    "colab_type": "code",
    "id": "-nTzI58dwwq-"
   },
   "outputs": [],
   "source": []
  }
 ],
 "metadata": {
  "accelerator": "GPU",
  "colab": {
   "collapsed_sections": [],
   "name": "Python_Basics_1.ipynb",
   "provenance": []
  },
  "kernelspec": {
   "display_name": "Python 3",
   "language": "python",
   "name": "python3"
  },
  "language_info": {
   "codemirror_mode": {
    "name": "ipython",
    "version": 3
   },
   "file_extension": ".py",
   "mimetype": "text/x-python",
   "name": "python",
   "nbconvert_exporter": "python",
   "pygments_lexer": "ipython3",
   "version": "3.7.3"
  }
 },
 "nbformat": 4,
 "nbformat_minor": 1
}
