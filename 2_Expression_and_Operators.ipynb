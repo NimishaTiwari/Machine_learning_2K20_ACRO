{
 "cells": [
  {
   "cell_type": "markdown",
   "metadata": {
    "colab_type": "text",
    "heading_collapsed": true,
    "id": "n_VDg1RwuChB"
   },
   "source": [
    "# Expressions, Operators, Control statements"
   ]
  },
  {
   "cell_type": "markdown",
   "metadata": {
    "colab_type": "text",
    "id": "6Cw_bQCzuChF"
   },
   "source": [
    "# Operators\n",
    "- Arithmetic (+, -, *, /, //, %)\n",
    "- Relational (<, >, <=, >=, !=, ==)\n",
    "- Shift (>>, <<)\n",
    "- Assignment (=)\n",
    "- Logical (and, or, not)\n",
    "- Bitwise (&, |, !)\n",
    "- 'in' and 'not in' operator\n"
   ]
  },
  {
   "cell_type": "markdown",
   "metadata": {
    "colab_type": "raw",
    "id": "FEu90oEtuChG"
   },
   "source": [
    "# << and >>\n",
    "\n",
    "if n=8 (1000 in binary), n>>1 will give 100 after shifting bits by 1 place to right. \n",
    "                         n<<1 will give 10000 after shifting bits by 1 place to left."
   ]
  },
  {
   "cell_type": "code",
   "execution_count": 1,
   "metadata": {
    "colab": {
     "base_uri": "https://localhost:8080/",
     "height": 68
    },
    "colab_type": "code",
    "id": "7v33-5nguChI",
    "outputId": "1f8b8dbd-d1c3-4433-b48a-702671d76ae2"
   },
   "outputs": [
    {
     "name": "stdout",
     "output_type": "stream",
     "text": [
      "9 binary 1001\n",
      "9 * 2 = 18 10010\n",
      "9 / 2 = 4 100\n"
     ]
    }
   ],
   "source": [
    "n=9\n",
    "print(n,'binary',format(n,'b'))\n",
    "print(n,'* 2 =',n<<1, format(n<<1,'b'))\n",
    "print(n,'/ 2 =',n>>1,format(n>>1,'b'))"
   ]
  },
  {
   "cell_type": "code",
   "execution_count": 2,
   "metadata": {
    "colab": {
     "base_uri": "https://localhost:8080/",
     "height": 68
    },
    "colab_type": "code",
    "id": "2QV1wgNYuChQ",
    "outputId": "d558014b-ed2a-425e-93a6-756ba9fa52b2"
   },
   "outputs": [
    {
     "name": "stdout",
     "output_type": "stream",
     "text": [
      "x and y is False\n",
      "x or y is True\n",
      "not x is False\n"
     ]
    }
   ],
   "source": [
    "# logical\n",
    "x = True\n",
    "y = False\n",
    "print('x and y is',x and y) # Output: x and y is False\n",
    "print('x or y is',x or y) # Output: x or y is True\n",
    "print('not x is',not x) # Output: not x is False"
   ]
  },
  {
   "cell_type": "code",
   "execution_count": 3,
   "metadata": {
    "colab": {
     "base_uri": "https://localhost:8080/",
     "height": 68
    },
    "colab_type": "code",
    "id": "Az6UaXmPuChV",
    "outputId": "d560292e-7540-4bce-c3b3-09a2de444b25"
   },
   "outputs": [
    {
     "name": "stdout",
     "output_type": "stream",
     "text": [
      "4\n",
      "12\n",
      "8\n"
     ]
    }
   ],
   "source": [
    "# bitwise\n",
    "x=12 \n",
    "y=4\n",
    "print(x & y) \n",
    "print(x | y)\n",
    "print(x ^ y)"
   ]
  },
  {
   "cell_type": "code",
   "execution_count": 4,
   "metadata": {
    "colab": {
     "base_uri": "https://localhost:8080/",
     "height": 51
    },
    "colab_type": "code",
    "id": "fHdeM7hKuCha",
    "outputId": "73cc4c6c-36bb-4b24-c380-d15d42111e7a"
   },
   "outputs": [
    {
     "name": "stdout",
     "output_type": "stream",
     "text": [
      "True\n",
      "True\n"
     ]
    }
   ],
   "source": [
    "# in and not in\n",
    "\n",
    "x = 'Hello world'\n",
    "print('H' in x)    # Output: True\n",
    "print('h' not in x)   # Output: True"
   ]
  },
  {
   "cell_type": "code",
   "execution_count": 5,
   "metadata": {
    "colab": {
     "base_uri": "https://localhost:8080/",
     "height": 85
    },
    "colab_type": "code",
    "id": "SD083I1euChe",
    "outputId": "9598d74f-603b-4cf3-d817-dc81450cd462"
   },
   "outputs": [
    {
     "name": "stdout",
     "output_type": "stream",
     "text": [
      "a+b (25+8j)\n",
      "a-b (15+2j)\n",
      "a*b (85+85j)\n",
      "a/b (3.3823529411764706-1.0294117647058825j)\n"
     ]
    }
   ],
   "source": [
    "# perform operations on complex numbers\n",
    "\n",
    "import cmath\n",
    "a=complex(20+5j)\n",
    "b=complex(5+3j)\n",
    "print('a+b',a+b)\n",
    "print('a-b',a-b)\n",
    "print('a*b',a*b)\n",
    "print('a/b',a/b)"
   ]
  },
  {
   "cell_type": "code",
   "execution_count": 0,
   "metadata": {
    "colab": {},
    "colab_type": "code",
    "id": "vvnJBOLewPRn"
   },
   "outputs": [],
   "source": []
  },
  {
   "cell_type": "markdown",
   "metadata": {
    "colab_type": "text",
    "id": "Ks4llkCxuChj"
   },
   "source": [
    "### Task1 Write a program in python to calculate area of triangle when all three sides are given.\n",
    "- s=(a+b+c)/2\n",
    "- area =  √(s(s-a)(s-b)(s-c) )"
   ]
  },
  {
   "cell_type": "code",
   "execution_count": 6,
   "metadata": {
    "colab": {
     "base_uri": "https://localhost:8080/",
     "height": 85
    },
    "colab_type": "code",
    "id": "WulnhHhpuChl",
    "outputId": "badd64c7-2c3c-4461-dc66-a7cb3e6cf112"
   },
   "outputs": [
    {
     "name": "stdout",
     "output_type": "stream",
     "text": [
      "Enter lenght of triangle: 3\n",
      "Enter Breadth of triangle: 4\n",
      "Enter height of triangle: 5\n",
      "6.0\n"
     ]
    }
   ],
   "source": [
    "# write your code after this line\n",
    "import math\n",
    "l = int(input(\"Enter lenght of triangle: \"))\n",
    "b = int(input(\"Enter Breadth of triangle: \"))\n",
    "h = int(input(\"Enter height of triangle: \"))\n",
    "s = (l+b+h)/2\n",
    "area = (s*(s-h)*(s-l)*(s-b))\n",
    "n = abs(area)\n",
    "area = math.sqrt(n)\n",
    "print(area)"
   ]
  },
  {
   "cell_type": "markdown",
   "metadata": {
    "colab_type": "text",
    "id": "J-WVeW51uChr"
   },
   "source": [
    "# Control Statements"
   ]
  },
  {
   "cell_type": "markdown",
   "metadata": {
    "colab_type": "text",
    "id": "OsmF1j5wuChs"
   },
   "source": [
    "### Decisions (if-else)"
   ]
  },
  {
   "cell_type": "markdown",
   "metadata": {
    "colab_type": "raw",
    "id": "f48xY3pmuChu"
   },
   "source": [
    "# simple if-else\n",
    "if(cond):\n",
    "    stmt\n",
    "else:\n",
    "    stmt"
   ]
  },
  {
   "cell_type": "markdown",
   "metadata": {
    "colab_type": "raw",
    "id": "fL6cU4vTuChv"
   },
   "source": [
    "# if-else-if\n",
    "if(cond):\n",
    "    stmt\n",
    "elif(cond):\n",
    "    stmt\n",
    "    .\n",
    "    .\n",
    "    .\n",
    "else: \n",
    "    stmt"
   ]
  },
  {
   "cell_type": "markdown",
   "metadata": {
    "colab_type": "raw",
    "id": "qDbMSLPWuChx"
   },
   "source": [
    "# nested if-else\n",
    "                            if(cond):\n",
    "                                stmt\n",
    "                                if(cond):\n",
    "                                    stmt1\n",
    "                            else:\n",
    "                                if(cond):\n",
    "                                    stmt3\n",
    "                                else:\n",
    "                                    stmt4"
   ]
  },
  {
   "cell_type": "markdown",
   "metadata": {
    "colab_type": "text",
    "heading_collapsed": true,
    "id": "osB-_kdfuChz"
   },
   "source": [
    "### Task2: Write a proram that accept a lowercase/uppercase character from the user and check whether the character is a vowel or consonant."
   ]
  },
  {
   "cell_type": "code",
   "execution_count": 9,
   "metadata": {
    "colab": {
     "base_uri": "https://localhost:8080/",
     "height": 51
    },
    "colab_type": "code",
    "hidden": true,
    "id": "ER1s9HLLuCh1",
    "outputId": "f154bab2-e4d9-4393-8b6a-a9f494a03e93"
   },
   "outputs": [
    {
     "name": "stdout",
     "output_type": "stream",
     "text": [
      "Enter a letter O\n",
      "Character entered is Vowel \n"
     ]
    }
   ],
   "source": [
    "# write your code after this line\n",
    "ch = input(\"Enter a letter \")\n",
    "ch = ch.lower()\n",
    "if(ch == 'a' or ch == 'e' or ch == 'i' or ch == 'o' or ch == 'u'):\n",
    "  print(\"Character entered is Vowel \")\n",
    "else:\n",
    "  print(\"Character is consonant \")\n"
   ]
  },
  {
   "cell_type": "markdown",
   "metadata": {
    "colab_type": "text",
    "heading_collapsed": true,
    "id": "K78UkrbLuCh9"
   },
   "source": [
    "### Task3: Write a program to check whether given character is a digit or a character in lowercase or uppercase alphabet. Hint: ASCII value of digit is between 48 to 58 and Lowercase characters in the range of 97 to122, uppercase is between 65 and 90)."
   ]
  },
  {
   "cell_type": "code",
   "execution_count": 11,
   "metadata": {
    "colab": {
     "base_uri": "https://localhost:8080/",
     "height": 51
    },
    "colab_type": "code",
    "hidden": true,
    "id": "ECZGi0hruCh-",
    "outputId": "a485bdb0-3a94-44c6-f845-010858777815"
   },
   "outputs": [
    {
     "name": "stdout",
     "output_type": "stream",
     "text": [
      "Enter a digit(ASCII) or character: 65\n",
      "Character is uppercase\n"
     ]
    }
   ],
   "source": [
    "# write your code after this line\n",
    "ch = input(\"Enter a digit(ASCII) or character: \") \n",
    "if (ch>='48' and ch<='58'):\n",
    "  print(\"Its a digit\")\n",
    "if(ch>='97' and ch<='122'):\n",
    "  print(\"Character is lowercase\")\n",
    "if(ch>='65' and ch<='90'):\n",
    "  print(\"Character is uppercase\")"
   ]
  },
  {
   "cell_type": "markdown",
   "metadata": {
    "colab_type": "text",
    "id": "4vS2xTXOuCiC"
   },
   "source": [
    "### Repetition or loop\n",
    "- while loop\n",
    "- for loop"
   ]
  },
  {
   "cell_type": "markdown",
   "metadata": {
    "colab_type": "text",
    "id": "10zY80T_uCiD"
   },
   "source": [
    "#### While loop"
   ]
  },
  {
   "cell_type": "markdown",
   "metadata": {
    "colab_type": "raw",
    "id": "aLy4RdvpuCiE"
   },
   "source": [
    "initialization of loop variable\n",
    "while( condition ):\n",
    "    stmt 1\n",
    "    stmt 2\n",
    "    ...\n",
    "    update loop variable"
   ]
  },
  {
   "cell_type": "markdown",
   "metadata": {
    "colab_type": "text",
    "id": "ZZJYEIcluCiF"
   },
   "source": [
    "##### Task 4: Write a program in Python to print table of any number 'n' provided by user using while loop."
   ]
  },
  {
   "cell_type": "code",
   "execution_count": 12,
   "metadata": {
    "colab": {
     "base_uri": "https://localhost:8080/",
     "height": 204
    },
    "colab_type": "code",
    "id": "TrTjzgI_uCiH",
    "outputId": "2392637e-c5cc-47c3-d630-88582400b8eb"
   },
   "outputs": [
    {
     "name": "stdout",
     "output_type": "stream",
     "text": [
      "Enter any number : 2\n",
      "2  x  1  =  2\n",
      "2  x  2  =  4\n",
      "2  x  3  =  6\n",
      "2  x  4  =  8\n",
      "2  x  5  =  10\n",
      "2  x  6  =  12\n",
      "2  x  7  =  14\n",
      "2  x  8  =  16\n",
      "2  x  9  =  18\n",
      "2  x  10  =  20\n"
     ]
    }
   ],
   "source": [
    "# write your code after this line\n",
    "n = int(input(\"Enter any number : \"))\n",
    "for i in range(1, 11):\n",
    "  print(n,\" x \", i, \" = \", n*i)"
   ]
  },
  {
   "cell_type": "markdown",
   "metadata": {
    "colab_type": "text",
    "id": "ae_w6RcmuCiM"
   },
   "source": [
    "##### Task 5: Write a program in Python to evaluate the following series using while loop:\n",
    "    \n",
    "    1! + 2! + 3! + 4! ...+ n!\n",
    "hint: use math.factorial(n) function to calculate factorial of number n."
   ]
  },
  {
   "cell_type": "code",
   "execution_count": 14,
   "metadata": {
    "colab": {
     "base_uri": "https://localhost:8080/",
     "height": 51
    },
    "colab_type": "code",
    "id": "7HUD0TNVzUpZ",
    "outputId": "a8e384f1-bfb2-461a-9e97-c76df3db689c"
   },
   "outputs": [
    {
     "name": "stdout",
     "output_type": "stream",
     "text": [
      "Enter any number: 5\n",
      "Sum of series is: 153\n"
     ]
    }
   ],
   "source": [
    "import math\n",
    "Sum = 0\n",
    "n = int(input(\"Enter any number: \"))\n",
    "for i in range(1, n+1):\n",
    "  f = math.factorial(i)\n",
    "  Sum += f\n",
    "\n",
    "print(\"Sum of series is:\", Sum)"
   ]
  },
  {
   "cell_type": "code",
   "execution_count": 15,
   "metadata": {
    "colab": {
     "base_uri": "https://localhost:8080/",
     "height": 51
    },
    "colab_type": "code",
    "id": "Zrgd8MX1uCiO",
    "outputId": "a172ae85-6da0-4f4b-9f11-551a6f4a67fb"
   },
   "outputs": [
    {
     "name": "stdout",
     "output_type": "stream",
     "text": [
      "Enter any number: 5\n",
      "Sum of series is: 153\n"
     ]
    }
   ],
   "source": [
    "# write your code after this line\n",
    "Sum = 0\n",
    "n = int(input(\"Enter any number: \"))\n",
    "while n:\n",
    "    f = math.factorial(n)\n",
    "    Sum += f\n",
    "    n -= 1\n",
    "print(\"Sum of series is:\", Sum)"
   ]
  },
  {
   "cell_type": "markdown",
   "metadata": {
    "colab_type": "text",
    "id": "eeXNvxy8uCiU"
   },
   "source": [
    "##### Task 6: Write a program in Python to enter the numbers till the user wants and at the end it should display the maximum number entered using while loop."
   ]
  },
  {
   "cell_type": "code",
   "execution_count": 17,
   "metadata": {
    "colab": {
     "base_uri": "https://localhost:8080/",
     "height": 51
    },
    "colab_type": "code",
    "id": "Mwecmh1ZuCiV",
    "outputId": "e2de0f3b-7d89-4236-a2ea-7e16fd36045e"
   },
   "outputs": [
    {
     "name": "stdout",
     "output_type": "stream",
     "text": [
      "5 10 25 30 2 8 11 100\n",
      "Maximum is: 100\n"
     ]
    }
   ],
   "source": [
    "# write your code after this line\n",
    "L = list(map(int, input().split()))\n",
    "n = len(L)\n",
    "i = 0\n",
    "Max = L[0]\n",
    "while(i<n):\n",
    "  if (L[i]>=Max):\n",
    "    Max = L[i]  \n",
    "  i += 1\n",
    "\n",
    "print(\"Maximum is:\", Max)"
   ]
  },
  {
   "cell_type": "markdown",
   "metadata": {
    "colab_type": "text",
    "id": "1NEdGg9SuCiZ"
   },
   "source": [
    "### for loop"
   ]
  },
  {
   "cell_type": "markdown",
   "metadata": {
    "colab_type": "raw",
    "id": "Ui3_CBMguCia"
   },
   "source": [
    "for iterable_var_name in range(terminating_value):\n",
    "    stmt 1\n",
    "    stmt 2\n",
    "    ...\n",
    "    \n",
    " for iterable_var_name in range(initial_value,terminating_value):\n",
    "    stmt 1\n",
    "    stmt 2\n",
    "    ...\n",
    "    \n",
    " for iterable_var_name in range(initial_value,terminating_value,updation):\n",
    "    stmt 1\n",
    "    stmt 2\n",
    "    ..."
   ]
  },
  {
   "cell_type": "code",
   "execution_count": 18,
   "metadata": {
    "colab": {},
    "colab_type": "code",
    "id": "gKDSJNtVuCib"
   },
   "outputs": [
    {
     "name": "stdout",
     "output_type": "stream",
     "text": [
      "Enter a number 5\n",
      "5! = 120\n"
     ]
    }
   ],
   "source": [
    "# factorial\n",
    "n=int(input('Enter a number '))\n",
    "fact=1\n",
    "for i in range(n,1,-1):\n",
    "    fact=fact*i\n",
    "print(str(n) + '! = ' + str(fact))"
   ]
  },
  {
   "cell_type": "markdown",
   "metadata": {
    "colab_type": "text",
    "id": "tPc22JJGuCif"
   },
   "source": [
    "##### Task 7:Write a program in Python to print all numbers from 0 to 9 except 3 and 6 using a for loop. \n"
   ]
  },
  {
   "cell_type": "code",
   "execution_count": 19,
   "metadata": {
    "colab": {
     "base_uri": "https://localhost:8080/",
     "height": 153
    },
    "colab_type": "code",
    "id": "y1ikCkQvuCig",
    "outputId": "4d166045-b9da-4bd8-af8c-02216dd9fa8c"
   },
   "outputs": [
    {
     "name": "stdout",
     "output_type": "stream",
     "text": [
      "0\n",
      "1\n",
      "2\n",
      "4\n",
      "5\n",
      "7\n",
      "8\n",
      "9\n"
     ]
    }
   ],
   "source": [
    "# write your code after this line\n",
    "for i in range(0, 10):\n",
    "  if i == 3 or i == 6:\n",
    "    continue\n",
    "  else:\n",
    "    print(i)"
   ]
  },
  {
   "cell_type": "markdown",
   "metadata": {
    "colab_type": "text",
    "id": "e1v7v-l6uCik"
   },
   "source": [
    "#### 2 Write a program in Python to get 10 numbers from user using a for loop. The program should print the count of positive numbers, negative numbers and zeroes entered by the user."
   ]
  },
  {
   "cell_type": "code",
   "execution_count": 20,
   "metadata": {
    "colab": {
     "base_uri": "https://localhost:8080/",
     "height": 204
    },
    "colab_type": "code",
    "id": "ivTl5evQuCiq",
    "outputId": "dabeebbe-27f1-4d40-d5a8-bc25d09485a2"
   },
   "outputs": [
    {
     "name": "stdout",
     "output_type": "stream",
     "text": [
      "Enter a number: 2\n",
      "Enter a number: 3\n",
      "Enter a number: 6\n",
      "Enter a number: 0\n",
      "Enter a number: 0\n",
      "Enter a number: 9\n",
      "Enter a number: -8\n",
      "Enter a number: -5\n",
      "Enter a number: 0\n",
      "Enter a number: 1\n",
      "5 3 2\n"
     ]
    }
   ],
   "source": [
    "a, b, c = 0, 0, 0\n",
    "for i in range(10):\n",
    "  N = int(input(\"Enter a number: \"))\n",
    "\n",
    "  if N > 0:\n",
    "    a += 1\n",
    "  elif N == 0:\n",
    "    b += 1\n",
    "  elif N < 0:\n",
    "    c += 1\n",
    "\n",
    "print(a, b, c) "
   ]
  },
  {
   "cell_type": "code",
   "execution_count": 0,
   "metadata": {
    "colab": {},
    "colab_type": "code",
    "id": "VcbKmfTD2jiY"
   },
   "outputs": [],
   "source": []
  }
 ],
 "metadata": {
  "accelerator": "GPU",
  "colab": {
   "collapsed_sections": [],
   "name": "2. Expression and Operators.ipynb",
   "provenance": []
  },
  "kernelspec": {
   "display_name": "Python 3",
   "language": "python",
   "name": "python3"
  },
  "language_info": {
   "codemirror_mode": {
    "name": "ipython",
    "version": 3
   },
   "file_extension": ".py",
   "mimetype": "text/x-python",
   "name": "python",
   "nbconvert_exporter": "python",
   "pygments_lexer": "ipython3",
   "version": "3.7.3"
  }
 },
 "nbformat": 4,
 "nbformat_minor": 1
}
