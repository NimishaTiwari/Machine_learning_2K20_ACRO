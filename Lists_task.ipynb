{
 "cells": [
  {
   "cell_type": "markdown",
   "metadata": {
    "colab_type": "text",
    "id": "CE9kazKvuEql"
   },
   "source": [
    "# Lists"
   ]
  },
  {
   "cell_type": "markdown",
   "metadata": {
    "colab_type": "text",
    "id": "mCoueiuRuEqn"
   },
   "source": [
    "## Lists\n",
    "- A list is a collection of items, that is stored in a variable. \n",
    "- The items should be related in some way, but there are no restrictions on what can be stored in a list."
   ]
  },
  {
   "cell_type": "markdown",
   "metadata": {
    "colab_type": "text",
    "id": "WMc00i-BuEqo"
   },
   "source": [
    "### Syntax\n",
    "list-name = [list of comma seperated values]"
   ]
  },
  {
   "cell_type": "markdown",
   "metadata": {
    "colab_type": "text",
    "id": "UVTNupfFuEqq"
   },
   "source": [
    "### Slicing with list\n",
    "\n",
    "index start with 0\n",
    "\n",
    " listname[index_number]\n",
    "\n",
    " listname[start_index:end_index]\n",
    "\n",
    " listname[:end_index]\n",
    "\n",
    " listname[start_index:]\n",
    "\n",
    "\n",
    "negative index: \n",
    " listname[:-index] \n",
    "\n",
    "\n",
    "### list methods\n",
    "- append()\n",
    "- len()\n",
    "- insert(index,value)\n",
    "- sort()\n",
    "- reverse()\n",
    "- pop(), pop(index)\n",
    "- min(), max(), sum()\n",
    "\n",
    "\n",
    "We can change the contents of the lists after its creation\n",
    "\n",
    "listname[index]=newvalue"
   ]
  },
  {
   "cell_type": "markdown",
   "metadata": {
    "colab_type": "text",
    "id": "zMEfQRFauEqr"
   },
   "source": [
    "#### Task 1: Run below code and try to make some changes to the code"
   ]
  },
  {
   "cell_type": "code",
   "execution_count": 1,
   "metadata": {
    "colab": {
     "base_uri": "https://localhost:8080/",
     "height": 68
    },
    "colab_type": "code",
    "id": "-un7NuvzuEqs",
    "outputId": "1a192aba-5cc6-4782-fabf-9c4e2251afc5"
   },
   "outputs": [
    {
     "name": "stdout",
     "output_type": "stream",
     "text": [
      "['India', 'Australia', 'USA']\n",
      "Value at 0 index:  India\n",
      "New value at index 0:  Germany\n"
     ]
    }
   ],
   "source": [
    "# list creation\n",
    "countries = ['India', 'Australia', 'USA']\n",
    "\n",
    "# print whole list\n",
    "print(countries)\n",
    "\n",
    "# Accessing list elements\n",
    "print(\"Value at 0 index: \",countries[0])\n",
    "\n",
    "# assignning new value to index\n",
    "countries[0]='Germany'\n",
    "\n",
    "print(\"New value at index 0: \",countries[0])"
   ]
  },
  {
   "cell_type": "markdown",
   "metadata": {
    "colab_type": "text",
    "id": "dilg5WVYuEqx"
   },
   "source": [
    "### Iterating lists"
   ]
  },
  {
   "cell_type": "markdown",
   "metadata": {
    "colab_type": "text",
    "id": "81ryE-rZuEqz"
   },
   "source": [
    "#### Task 2: Run below code and try to make some changes to the code"
   ]
  },
  {
   "cell_type": "code",
   "execution_count": 2,
   "metadata": {
    "colab": {
     "base_uri": "https://localhost:8080/",
     "height": 102
    },
    "colab_type": "code",
    "id": "E4fLjOaZuEq0",
    "outputId": "200f0a03-fdf5-4b64-fe2e-2b53d889768f",
    "scrolled": true
   },
   "outputs": [
    {
     "name": "stdout",
     "output_type": "stream",
     "text": [
      "['My name is', 'I am in', 3, 'Semester']\n",
      "My name is\n",
      "I am in\n",
      "3\n",
      "Semester\n"
     ]
    }
   ],
   "source": [
    "\n",
    "hybridlists=['My name is',\n",
    "             'I am in',\n",
    "             3,\n",
    "             'Semester']\n",
    "\n",
    "print(hybridlists)\n",
    "\n",
    "# we can access the elements of list using loops\n",
    "\n",
    "for item in hybridlists:\n",
    "    print(item)"
   ]
  },
  {
   "cell_type": "markdown",
   "metadata": {
    "colab_type": "text",
    "id": "AfzGa6PXuEq4"
   },
   "source": [
    "#### Task 3: Run below code and try to make some changes to the code"
   ]
  },
  {
   "cell_type": "code",
   "execution_count": 3,
   "metadata": {
    "colab": {
     "base_uri": "https://localhost:8080/",
     "height": 102
    },
    "colab_type": "code",
    "id": "uJy7ziaduEq5",
    "outputId": "c01b9a58-ba9b-472a-e5b6-1e3ce5b86d74",
    "scrolled": false
   },
   "outputs": [
    {
     "name": "stdout",
     "output_type": "stream",
     "text": [
      "Index: 0, Value: India\n",
      "Index: 1, Value: Australia\n",
      "Index: 2, Value: USA\n",
      "\n",
      " Index of India is:  0\n"
     ]
    }
   ],
   "source": [
    "# print the index number with value\n",
    "\n",
    "countries = ['India', 'Australia', 'USA']\n",
    "\n",
    "for index, country in enumerate(countries):\n",
    "    place = str(index)\n",
    "    print(\"Index: \" + place + \", Value: \" + country)\n",
    "    \n",
    "# find index of\n",
    "index = countries.index('India') \n",
    "print(\"\\n Index of India is: \",index)"
   ]
  },
  {
   "cell_type": "markdown",
   "metadata": {
    "colab_type": "text",
    "id": "MC3q0utGuEq9"
   },
   "source": [
    "#### Task 4: Run below code and try to make some changes to the code"
   ]
  },
  {
   "cell_type": "code",
   "execution_count": 4,
   "metadata": {
    "colab": {
     "base_uri": "https://localhost:8080/",
     "height": 34
    },
    "colab_type": "code",
    "id": "1ydARtKLuEq-",
    "outputId": "e9b1a790-1674-45b8-a1ac-2eb6dc2a7999"
   },
   "outputs": [
    {
     "name": "stdout",
     "output_type": "stream",
     "text": [
      "['India', 'Australia']\n"
     ]
    }
   ],
   "source": [
    "# Remove the last country from the list by index or by value\n",
    "del countries[-1]\n",
    "\n",
    "print(countries)"
   ]
  },
  {
   "cell_type": "markdown",
   "metadata": {
    "colab_type": "text",
    "id": "CqZJZ-ZLuErC"
   },
   "source": [
    "### List comprehension (with for loop)"
   ]
  },
  {
   "cell_type": "markdown",
   "metadata": {
    "colab_type": "text",
    "id": "BRObLUlIuErD"
   },
   "source": [
    "#### Task 5: Run below code and try to make some changes to the code"
   ]
  },
  {
   "cell_type": "code",
   "execution_count": 5,
   "metadata": {
    "colab": {
     "base_uri": "https://localhost:8080/",
     "height": 34
    },
    "colab_type": "code",
    "id": "-NskuVdeuErE",
    "outputId": "322c7b22-9df1-467c-d20b-afeb3eae7025"
   },
   "outputs": [
    {
     "name": "stdout",
     "output_type": "stream",
     "text": [
      "[1, 8, 27, 64, 125]\n"
     ]
    }
   ],
   "source": [
    "# without comprehension\n",
    "\n",
    "cubes = []\n",
    "for x in [1, 2, 3, 4, 5]:\n",
    "    cubes.append(x ** 3) \n",
    "    \n",
    "print(cubes)"
   ]
  },
  {
   "cell_type": "code",
   "execution_count": 6,
   "metadata": {
    "colab": {
     "base_uri": "https://localhost:8080/",
     "height": 34
    },
    "colab_type": "code",
    "id": "0tnCvfgFuErJ",
    "outputId": "3790f595-0a7b-4fb0-9857-b5b2dfa9e8e7"
   },
   "outputs": [
    {
     "name": "stdout",
     "output_type": "stream",
     "text": [
      "[1, 8, 27, 64, 125]\n"
     ]
    }
   ],
   "source": [
    "# with comprehension\n",
    "  \n",
    "cubes= [x**3 for x in [1, 2, 3, 4, 5]]\n",
    "print(cubes)"
   ]
  },
  {
   "cell_type": "code",
   "execution_count": 7,
   "metadata": {
    "colab": {
     "base_uri": "https://localhost:8080/",
     "height": 34
    },
    "colab_type": "code",
    "id": "rpw76uDVuErO",
    "outputId": "ffe0bb6e-300a-447d-b399-3550a26ffa2f"
   },
   "outputs": [
    {
     "data": {
      "text/plain": [
       "[1, 2, 3, 4, 5, 6, 7, 8, 9, 10]"
      ]
     },
     "execution_count": 7,
     "metadata": {},
     "output_type": "execute_result"
    }
   ],
   "source": [
    "numbers=[1,2,3,4,5,6,7,8,9,10]\n",
    "list=[x for x in numbers]\n",
    "list"
   ]
  },
  {
   "cell_type": "markdown",
   "metadata": {
    "colab_type": "text",
    "id": "ZAqkJUWMuErU"
   },
   "source": [
    "#### Program 1: Write a python program which does the following\n",
    "- Make a list that includes four job types , such as 'programmer', 'truck driver' and so on\n",
    "- Use the *list.index()* function to find the index of one job type in your list.\n",
    "- Use the *in* function to show that this job type is in your list.\n",
    "- Use the *append()* function to add a new job type to your list.\n",
    "- Use the *insert()* function to add a new job type \"Python Programmer\" at the beginning of the list.\n",
    "- Use a loop to show all the job types in your list."
   ]
  },
  {
   "cell_type": "code",
   "execution_count": 8,
   "metadata": {
    "colab": {
     "base_uri": "https://localhost:8080/",
     "height": 238
    },
    "colab_type": "code",
    "id": "RZPxGiH0uErW",
    "outputId": "876e14ef-e8be-435d-cab3-366d6a04798f"
   },
   "outputs": [
    {
     "name": "stdout",
     "output_type": "stream",
     "text": [
      "Index of 'Manager' is 2\n",
      "\n",
      "False\n",
      "\n",
      "['Driver', 'Writer', 'Manager', 'Teacher', 'Poet']\n",
      "\n",
      "\n",
      "Python Programmer\n",
      "Driver\n",
      "Writer\n",
      "Manager\n",
      "Teacher\n",
      "Poet\n"
     ]
    }
   ],
   "source": [
    "# Declaring Job Profiles\n",
    "Job_Profile = ['Driver', 'Writer', 'Manager', 'Teacher']\n",
    "\n",
    "# Finding index of Manager\n",
    "Manager_idx = Job_Profile.index('Manager')\n",
    "print(\"Index of 'Manager' is\", Manager_idx)\n",
    "print()\n",
    "\n",
    "# Checking whether Poet is in our list or not\n",
    "print('Poet' in Job_Profile)\n",
    "print()\n",
    "\n",
    "# Appending Poet in Job_Profile\n",
    "Job_Profile.append('Poet')\n",
    "print(Job_Profile)\n",
    "print()\n",
    "\n",
    "# Inserting Python Programmer at begining of list\n",
    "Job_Profile.insert(0, 'Python Programmer')\n",
    "print()\n",
    "\n",
    "for Job in Job_Profile:\n",
    "  print(Job)"
   ]
  },
  {
   "cell_type": "markdown",
   "metadata": {
    "colab_type": "text",
    "id": "s9_VCnkJuEra"
   },
   "source": [
    "#### Problem 2: Write a python program for following\n",
    "\n",
    "- Make a list that includes the names of five famous people.\n",
    "- Remove each person from the list, one at a time, using the four methods given below:\n",
    "    - Del item from the list by del: del listname[index]\n",
    "    - Remove the item from the list by remove method: listname.remove('itemname')\n",
    "    - Using pop() method, It removes the last item from the list: listname.pop() \n",
    "    - Pop any item from the list by index: listname: listname.pop(index)\n",
    "- Print out a message that there are no famous people left in your list, and print your list to prove that it is empty."
   ]
  },
  {
   "cell_type": "code",
   "execution_count": 9,
   "metadata": {
    "colab": {
     "base_uri": "https://localhost:8080/",
     "height": 119
    },
    "colab_type": "code",
    "id": "3Cf_mbehuErb",
    "outputId": "553d61c8-ac43-498f-cfa7-984a93ef2b30"
   },
   "outputs": [
    {
     "name": "stdout",
     "output_type": "stream",
     "text": [
      "['Virat Kohli', 'Hritik Roshan', 'Satya Nadella', 'Elon Musk']\n",
      "['Virat Kohli', 'Hritik Roshan', 'Elon Musk']\n",
      "['Virat Kohli', 'Hritik Roshan']\n",
      "['Hritik Roshan']\n",
      "[]\n",
      "No Famous People are left into the list.\n"
     ]
    }
   ],
   "source": [
    "# Making the list\n",
    "Famous_Persons = ['Virat Kohli', 'Hritik Roshan', 'Vishwanathan Anand', 'Satya Nadella', 'Elon Musk' ]\n",
    "\n",
    "# Removing list item\n",
    "del Famous_Persons[2]\n",
    "print(Famous_Persons)\n",
    "\n",
    "Famous_Persons.remove('Satya Nadella')\n",
    "print(Famous_Persons)\n",
    "\n",
    "Famous_Persons.pop()\n",
    "print(Famous_Persons)\n",
    "\n",
    "Famous_Persons.pop(0)\n",
    "print(Famous_Persons)\n",
    "\n",
    "Famous_Persons.pop()\n",
    "print(Famous_Persons)\n",
    "\n",
    "print(\"No Famous People are left into the list.\")"
   ]
  },
  {
   "cell_type": "markdown",
   "metadata": {
    "colab_type": "text",
    "id": "GSsWG_cGuErf"
   },
   "source": [
    "#### Program 3: Write a python program which does the following\n",
    "\n",
    "- Store the first ten letters of the alphabet in a list.\n",
    "- Use a slice to print out the first three letters of the alphabet.\n",
    "- Use a slice to print out any three letters from the middle of your list.\n",
    "- Use a slice to print out the letters from any point in the middle of your list, to the end.\n"
   ]
  },
  {
   "cell_type": "code",
   "execution_count": 10,
   "metadata": {
    "colab": {
     "base_uri": "https://localhost:8080/",
     "height": 68
    },
    "colab_type": "code",
    "id": "tmrnWq_YuErg",
    "outputId": "dd8e0232-993a-4b66-b7cd-aeaadd6a6f3e"
   },
   "outputs": [
    {
     "name": "stdout",
     "output_type": "stream",
     "text": [
      "['a', 'b', 'c']\n",
      "['d', 'e', 'f']\n",
      "['f', 'g', 'h', 'i', 'j']\n"
     ]
    }
   ],
   "source": [
    "# Making the alphabet list\n",
    "Alphabet = ['a', 'b', 'c', 'd', 'e', 'f', 'g', 'h', 'i', 'j']\n",
    "\n",
    "# Printing out First 3 letters\n",
    "print(Alphabet[:3])\n",
    "\n",
    "# Printing out any 3 letters from middle\n",
    "print(Alphabet[3:6])\n",
    "\n",
    "# Printing out last 5 elements\n",
    "print(Alphabet[5:])"
   ]
  },
  {
   "cell_type": "markdown",
   "metadata": {
    "colab_type": "text",
    "id": "NWe_XtTXuErk"
   },
   "source": [
    "#### Program 4: Write a python program for following\n",
    "\n",
    "- Your goal in this exercise is to prove that copying a list protects the original list.\n",
    "- Make a list with three people's names in it.\n",
    "- Use a slice to make a copy of the entire list.\n",
    "- Add at least two new names to the new copy of the list.\n",
    "- Make a loop that prints out all of the names in the original list, along with a message that this is the original list.\n",
    "- Make a loop that prints out all of the names in the copied list, along with a message that this is the copied list."
   ]
  },
  {
   "cell_type": "code",
   "execution_count": 11,
   "metadata": {
    "colab": {
     "base_uri": "https://localhost:8080/",
     "height": 204
    },
    "colab_type": "code",
    "id": "mz_cmNDjuErm",
    "outputId": "b010aa38-650a-417e-ab73-287f44dfd8b2"
   },
   "outputs": [
    {
     "name": "stdout",
     "output_type": "stream",
     "text": [
      "This is the Original List...\n",
      "Honey\n",
      "Bunny\n",
      "Toney\n",
      "\n",
      "This is the copied List...\n",
      "Honey\n",
      "Bunny\n",
      "Toney\n",
      "Goluu\n",
      "Chintoo\n"
     ]
    }
   ],
   "source": [
    "# Making The List\n",
    "People_Orig = ['Honey', 'Bunny', 'Toney']\n",
    "\n",
    "# Making a Copy\n",
    "People_Copy = People_Orig[:]\n",
    "\n",
    "# Adding 2 People\n",
    "People_Copy.append('Goluu')\n",
    "People_Copy.append('Chintoo')\n",
    "\n",
    "# Displaying Original List\n",
    "print(\"This is the Original List...\")\n",
    "for name in People_Orig:\n",
    "  print(name)\n",
    "\n",
    "print()\n",
    "# Displaying Copied List\n",
    "print(\"This is the copied List...\")\n",
    "for name in People_Copy:\n",
    "  print(name)"
   ]
  },
  {
   "cell_type": "markdown",
   "metadata": {
    "colab_type": "text",
    "id": "whk0o2dAuErs"
   },
   "source": [
    "#### Program 5: Write a python program for following\n",
    "\n",
    "- Create a list to store the marks of top 15 students obtained by the students in Python Quiz held on 21/08/2018. Maximum marks=15\n",
    "- Print the maximum marks obtained by the student from the list.\n",
    "- Print the minimum marks obtained by the student.\n",
    "- Find the sum of all the marks.\n",
    "- Find the average of the marks.\n",
    "- Reverse the original list and display using for loop.\n"
   ]
  },
  {
   "cell_type": "code",
   "execution_count": 12,
   "metadata": {
    "colab": {
     "base_uri": "https://localhost:8080/",
     "height": 102
    },
    "colab_type": "code",
    "id": "xpZzhZcSuEru",
    "outputId": "9b840fb9-f0f8-49fc-a4ae-6ddb05238cee"
   },
   "outputs": [
    {
     "name": "stdout",
     "output_type": "stream",
     "text": [
      "Maximum marks obtained:  15\n",
      "Minimum marks obtained:  10\n",
      "Sum of marks obtained:  189\n",
      "Average marks obtained:  12.6\n",
      "14\n",
      "13\n",
      "12\n",
      "11\n",
      "15\n",
      "12\n",
      "13\n",
      "14\n",
      "13\n",
      "10\n",
      "11\n",
      "10\n",
      "15\n",
      "14\n",
      "12\n"
     ]
    }
   ],
   "source": [
    "Marks = [12, 14, 15, 10, 11, 10, 13, 14, 13, 12, 15, 11, 12, 13, 14]\n",
    "\n",
    "print(\"Maximum marks obtained: \", max(Marks))\n",
    "print(\"Minimum marks obtained: \", min(Marks))\n",
    "print(\"Sum of marks obtained: \", sum(Marks))\n",
    "print(\"Average marks obtained: \", sum(Marks)/15)\n",
    "\n",
    "rev_marks = Marks[::-1]\n",
    "for i in rev_marks:\n",
    "    print(i)"
   ]
  },
  {
   "cell_type": "markdown",
   "metadata": {
    "colab_type": "text",
    "id": "frM5O8tHuEry"
   },
   "source": [
    "#### Program 6: Write a program in Python to create a list which contains n integers entered by the user and delete all odd numbers from the list. Example: If initial contents of the list is=[1,2,3,4,5,6,7,8,9,10], the output would be=[2,4,6,8,10]."
   ]
  },
  {
   "cell_type": "code",
   "execution_count": 1,
   "metadata": {
    "colab": {
     "base_uri": "https://localhost:8080/",
     "height": 238
    },
    "colab_type": "code",
    "id": "alv_kdUouErz",
    "outputId": "f760093c-96bf-4f68-ba53-aea0956f885c"
   },
   "outputs": [
    {
     "name": "stdout",
     "output_type": "stream",
     "text": [
      "Enter any number: 5\n",
      "Enter the number: 6\n",
      "Enter the number: 2\n",
      "Enter the number: 3\n",
      "Enter the number: 8\n",
      "Enter the number: 9\n",
      "Initial List:  [6, 2, 3, 8, 9]\n",
      "Updated List:  [6, 2, 8]\n"
     ]
    }
   ],
   "source": [
    "n = int(input(\"Enter any number: \"))\n",
    "Numbers = []\n",
    "\n",
    "for i in range(n):\n",
    "  Num = int(input(\"Enter the number: \"))\n",
    "  Numbers.append(Num)\n",
    "\n",
    "print(\"Initial List: \", Numbers)\n",
    "lst = Numbers\n",
    "for i in lst:\n",
    "  if i%2 != 0:\n",
    "    Numbers.remove(i)\n",
    "\n",
    "print(\"Updated List: \", Numbers)"
   ]
  },
  {
   "cell_type": "markdown",
   "metadata": {
    "colab_type": "text",
    "id": "-eh87vCguEr5"
   },
   "source": [
    "## Optional Questions"
   ]
  },
  {
   "cell_type": "markdown",
   "metadata": {
    "colab_type": "text",
    "id": "JDKd4_PEuEr6"
   },
   "source": [
    "#### Program 7: Write a python program for following.\n",
    "- Create an initial empty list named \"countries\" \n",
    "- Read the names of n countries from the user and add them to country list:\n",
    "- Use for loop to display all the names of the countries from the list and add \"is Great\" after the country name if it is \"India\""
   ]
  },
  {
   "cell_type": "code",
   "execution_count": 2,
   "metadata": {
    "colab": {
     "base_uri": "https://localhost:8080/",
     "height": 204
    },
    "colab_type": "code",
    "id": "nEMwkoKmuEr7",
    "outputId": "ed2a6664-e946-4595-8744-6a2280b6a32a"
   },
   "outputs": [
    {
     "name": "stdout",
     "output_type": "stream",
     "text": [
      "Enter number of countries: 3\n",
      "Enter name of the country: India\n",
      "Enter name of the country: USA\n",
      "Enter name of the country: UK\n",
      "India is Great.\n",
      "USA\n",
      "UK\n"
     ]
    }
   ],
   "source": [
    "# Creating Empty List\n",
    "Countries = []\n",
    "\n",
    "n = int(input(\"Enter number of countries: \"))\n",
    "\n",
    "for _ in range(n):\n",
    "  Name = input(\"Enter name of the country: \")\n",
    "  Countries.append(Name)\n",
    "\n",
    "for name in Countries:\n",
    "  if name == 'India':\n",
    "    print(name + \" is Great.\")\n",
    "  else:\n",
    "    print(name)\n"
   ]
  },
  {
   "cell_type": "markdown",
   "metadata": {
    "colab_type": "text",
    "id": "bHtQiQ55uEr_"
   },
   "source": [
    "### Program 8: Write a Python program to find the list in a list of lists whose sum of elements is the highest.\n",
    "Sample lists: [[1,2,3], [4,5,6], [10,11,12], [7,8,9]]\n",
    "Expected Output: [10, 11, 12]"
   ]
  },
  {
   "cell_type": "code",
   "execution_count": 3,
   "metadata": {
    "colab": {
     "base_uri": "https://localhost:8080/",
     "height": 34
    },
    "colab_type": "code",
    "id": "Kph_EFQ9uEsB",
    "outputId": "8cb67689-a337-4e09-a152-c598354ab20d"
   },
   "outputs": [
    {
     "name": "stdout",
     "output_type": "stream",
     "text": [
      "[10, 11, 12]\n"
     ]
    }
   ],
   "source": [
    "# Creating The List\n",
    "Nested_list = [[1, 2, 3], [4, 5, 6], [10, 11, 12], [7, 8, 9]]\n",
    "\n",
    "# Finding The List With Highest Sum\n",
    "i = 0\n",
    "Sum = 0\n",
    "for List in Nested_list:\n",
    "  S = sum(List)\n",
    "  if S >= Sum:\n",
    "    Sum = S\n",
    "    idx = i\n",
    "\n",
    "  i = i + 1\n",
    "\n",
    "print(Nested_list[idx])"
   ]
  },
  {
   "cell_type": "code",
   "execution_count": null,
   "metadata": {},
   "outputs": [],
   "source": []
  }
 ],
 "metadata": {
  "accelerator": "GPU",
  "colab": {
   "collapsed_sections": [],
   "name": "Lists_task.ipynb",
   "provenance": []
  },
  "kernelspec": {
   "display_name": "Python 3",
   "language": "python",
   "name": "python3"
  },
  "language_info": {
   "codemirror_mode": {
    "name": "ipython",
    "version": 3
   },
   "file_extension": ".py",
   "mimetype": "text/x-python",
   "name": "python",
   "nbconvert_exporter": "python",
   "pygments_lexer": "ipython3",
   "version": "3.7.3"
  }
 },
 "nbformat": 4,
 "nbformat_minor": 1
}
